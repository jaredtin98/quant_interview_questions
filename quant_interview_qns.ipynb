{
    "cells": [
        {
            "cell_type": "markdown",
            "source": [
                "Q1a:"
            ],
            "metadata": {}
        },
        {
            "cell_type": "markdown",
            "source": [
                "MySql Statement:\r\n",
                "\r\n",
                "select e1.name as EmployeeName <br/>\r\n",
                "from Employee as e1, Employee as e2 <br/>\r\n",
                "where e1.manager_id = e2.id AND e1.Salary > e2.Salary <br/>\r\n",
                "<br/>\r\n",
                "\r\n",
                "Explanation: \r\n",
                "\r\n",
                "Selecting the name will output the employee's name and selecting from 2 tables will get the Cartesian Product of these 2 tables. The 2 conditions in the where clause is used to filter for the names of employees whose salaries are greater than their immediate manager's. "
            ],
            "metadata": {}
        },
        {
            "cell_type": "markdown",
            "source": [
                "Q1b:"
            ],
            "metadata": {}
        },
        {
            "cell_type": "markdown",
            "source": [
                "To find out employees who do not manage anyone, filter out the NULL values in the manager_id col first and check the values in the manager_id col against the values in the id col. For the values in the manager_id col that appeared in the id col, it means that the employee with that specific id manages someone. For the remaining id values, we can sum up their corresponding salary and divide by the count to get the average salary."
            ],
            "metadata": {}
        },
        {
            "cell_type": "markdown",
            "source": [
                "Q2:"
            ],
            "metadata": {}
        },
        {
            "cell_type": "code",
            "execution_count": 13,
            "source": [
                "def exists(v):\r\n",
                "    try:\r\n",
                "        v\r\n",
                "    except NameError:\r\n",
                "        return False # v is not defined since there is NameError\r\n",
                "    else:\r\n",
                "        return True # v is defined\r\n"
            ],
            "outputs": [],
            "metadata": {}
        },
        {
            "cell_type": "markdown",
            "source": [
                "Q3:"
            ],
            "metadata": {}
        },
        {
            "cell_type": "code",
            "execution_count": 9,
            "source": [
                "import math\r\n",
                "def pascalLayer(n):\r\n",
                "    \r\n",
                "    def binomialCoeff(line, i): # each entry in a layer is a value of a Binomial Coefficient which can be computed using combinations formula\r\n",
                "        return math.comb(line, i) # line represents the layer and i represents the entry position in the layer\r\n",
                "    \r\n",
                "    for line in range(0, n):  # iterate through each layer and print the entries in each layer\r\n",
                "        for i in range(0, line + 1): # number of values in each layer is equal to the layer number\r\n",
                "            print(binomialCoeff(line, i), \" \", end = \"\")\r\n",
                "        print()\r\n",
                "\r\n",
                "pascalLayer(4)"
            ],
            "outputs": [
                {
                    "output_type": "stream",
                    "name": "stdout",
                    "text": [
                        "1  \n",
                        "1  1  \n",
                        "1  2  1  \n",
                        "1  3  3  1  \n"
                    ]
                }
            ],
            "metadata": {}
        }
    ],
    "metadata": {
        "orig_nbformat": 4,
        "language_info": {
            "name": "python",
            "version": "3.8.5",
            "mimetype": "text/x-python",
            "codemirror_mode": {
                "name": "ipython",
                "version": 3
            },
            "pygments_lexer": "ipython3",
            "nbconvert_exporter": "python",
            "file_extension": ".py"
        },
        "kernelspec": {
            "name": "python3",
            "display_name": "Python 3.8.5 64-bit ('base': conda)"
        },
        "interpreter": {
            "hash": "97f613484c7082a5f441d3814b62bbd2ba6367090f977f8bd3f34e33dc661583"
        }
    },
    "nbformat": 4,
    "nbformat_minor": 2
}