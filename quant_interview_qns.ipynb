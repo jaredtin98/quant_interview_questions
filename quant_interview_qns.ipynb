{
    "cells": [
        {
            "cell_type": "markdown",
            "source": [
                "Q3:"
            ],
            "metadata": {}
        },
        {
            "cell_type": "code",
            "execution_count": 2,
            "source": [
                "import math\r\n",
                "def pascalLayer(n):\r\n",
                "    \r\n",
                "    def binomialCoeff(line, i):\r\n",
                "        return math.comb(line, i)\r\n",
                "    \r\n",
                "    for line in range(0, n):\r\n",
                "        for i in range(0, line + 1):\r\n",
                "            print(binomialCoeff(line, i), \" \", end = \"\")\r\n",
                "        print()\r\n",
                "\r\n",
                "pascalLayer(4)"
            ],
            "outputs": [
                {
                    "output_type": "stream",
                    "name": "stdout",
                    "text": [
                        "1  \n",
                        "1  1  \n",
                        "1  2  1  \n",
                        "1  3  3  1  \n"
                    ]
                }
            ],
            "metadata": {}
        }
    ],
    "metadata": {
        "orig_nbformat": 4,
        "language_info": {
            "name": "python",
            "version": "3.8.5",
            "mimetype": "text/x-python",
            "codemirror_mode": {
                "name": "ipython",
                "version": 3
            },
            "pygments_lexer": "ipython3",
            "nbconvert_exporter": "python",
            "file_extension": ".py"
        },
        "kernelspec": {
            "name": "python3",
            "display_name": "Python 3.8.5 64-bit ('base': conda)"
        },
        "interpreter": {
            "hash": "97f613484c7082a5f441d3814b62bbd2ba6367090f977f8bd3f34e33dc661583"
        }
    },
    "nbformat": 4,
    "nbformat_minor": 2
}